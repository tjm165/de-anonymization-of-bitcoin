{
 "cells": [
  {
   "cell_type": "markdown",
   "metadata": {},
   "source": [
    "## 1. Small Example"
   ]
  },
  {
   "cell_type": "code",
   "execution_count": 2,
   "metadata": {},
   "outputs": [
    {
     "name": "stdout",
     "output_type": "stream",
     "text": [
      "[<data_util.Input object at 0x7fc1510d8e90>, <data_util.Input object at 0x7fc1510d8f10>, <data_util.Input object at 0x7fc1510d8f90>, <data_util.Input object at 0x7fc1510d8fd0>]\n",
      "address1\n",
      "address2\n",
      "address3\n",
      "address4\n"
     ]
    }
   ],
   "source": [
    "import heuristics\n",
    "from data_util import *\n",
    "from cluster import *\n",
    "\n",
    "input1 = Input(\"address1\", 1)\n",
    "input2 = Input(\"address2\", 2)\n",
    "input3 = Input(\"address3\", 3)\n",
    "input4 = Input(\"address4\", 4)\n",
    "\n",
    "output1 = Output(\"address5\", 1)\n",
    "\n",
    "t1 = Transaction([input1, input2, input3, input4], [output1])\n",
    "\n",
    "\n",
    "#for o in cluster([t1], heuristics.multi_input_optimal_change):\n",
    "#    print(o)\n",
    "\n",
    "my_clusters = cluster([t1], heuristics.shadow, 1)\n",
    "\n",
    "for o in my_clusters:\n",
    "    print(o)\n",
    "    for o_i in o:\n",
    "        print(o_i.address)"
   ]
  },
  {
   "cell_type": "code",
   "execution_count": 5,
   "metadata": {},
   "outputs": [
    {
     "data": {
      "image/png": "[encoded data removed]",
      "text/plain": [
       "<Figure size 432x288 with 1 Axes>"
      ]
     },
     "metadata": {
      "needs_background": "light"
     },
     "output_type": "display_data"
    }
   ],
   "source": [
    "visualize_clusters(my_clusters)"
   ]
  }
 ],
 "metadata": {
  "kernelspec": {
   "display_name": "Python 3",
   "language": "python",
   "name": "python3"
  },
  "language_info": {
   "codemirror_mode": {
    "name": "ipython",
    "version": 3
   },
   "file_extension": ".py",
   "mimetype": "text/x-python",
   "name": "python",
   "nbconvert_exporter": "python",
   "pygments_lexer": "ipython3",
   "version": "3.7.4"
  }
 },
 "nbformat": 4,
 "nbformat_minor": 2
}
