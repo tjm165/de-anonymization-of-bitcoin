{
 "cells": [
  {
   "cell_type": "markdown",
   "metadata": {},
   "source": [
    "## 1. Format raw data\n",
    "Data is obtained from: https://www.kaggle.com/xblock/bitcoin-partial-transaction-dataset"
   ]
  },
  {
   "cell_type": "code",
   "execution_count": null,
   "metadata": {},
   "outputs": [],
   "source": [
    "from data_util import parse_data"
   ]
  },
  {
   "cell_type": "code",
   "execution_count": null,
   "metadata": {},
   "outputs": [],
   "source": [
    "# Parse data from Kaggle into an easier format\n",
    "# Creates \"raw data\" file that can be loaded into Transaction objects\n",
    "parse_data('archive/dataset3_2016_1_1500000')"
   ]
  },
  {
   "cell_type": "markdown",
   "metadata": {},
   "source": [
    "## 2. Run The Clustering Algorithms"
   ]
  },
  {
   "cell_type": "code",
   "execution_count": 1,
   "metadata": {},
   "outputs": [],
   "source": [
    "import cluster\n",
    "from data_util import load_data\n",
    "import heuristics\n",
    "\n",
    "import pickle\n",
    "import matplotlib.pyplot as plt\n",
    "import numpy as np\n",
    "import time\n",
    "from collections import defaultdict"
   ]
  },
  {
   "cell_type": "code",
   "execution_count": 2,
   "metadata": {},
   "outputs": [],
   "source": [
    "# Load pickled data\n",
    "data = load_data('dataset3_2016_1_1500000.pkl')"
   ]
  },
  {
   "cell_type": "code",
   "execution_count": 4,
   "metadata": {},
   "outputs": [],
   "source": [
    "def cluster_and_pickle(heuristic):\n",
    "    # Optain clustering from heuristic\n",
    "    clusters = cluster.cluster(data, heuristic)\n",
    "    \n",
    "    # Save compressed data\n",
    "    file_name = 'dataset3_' + heuristic.__name__ + '.pkl'\n",
    "    with open(file_name, 'wb') as f:\n",
    "            pickle.dump(clusters, f)\n",
    "            \n",
    "    return clusters\n",
    "\n",
    "def load_cluster(file_name):\n",
    "    with open(file_name, 'rb') as f:\n",
    "        return pickle.load(f)\n",
    "    \n",
    "def plot_and_analyze(clusters_list, title):\n",
    "    # Count the number of clusters at a given size\n",
    "    cluster_sizes = defaultdict(int)\n",
    "    total_addr = 0\n",
    "    for cluster in clusters_list:\n",
    "        cluster_size = len(cluster)\n",
    "        total_addr += cluster_size\n",
    "        cluster_sizes[cluster_size] += 1\n",
    "\n",
    "    # Generate some summary statistics\n",
    "    sizes = list(cluster_sizes.keys())\n",
    "    counts = list(cluster_sizes.values())\n",
    "    avg_size = sum(size * count for size, count in zip(sizes, counts)) / sum(counts)\n",
    "    avg_non_single_size = sum(size * count for size, count in zip(sizes, counts) if size > 1) / \\\n",
    "                          sum(count for size, count in zip(sizes, counts) if size > 1)\n",
    "    print('Total number of clusters:           ', len(clusters_list))\n",
    "    print('Number of single-address clusters:  ', cluster_sizes[1])\n",
    "    print('Size of largest cluster:            ', max(sizes))\n",
    "    print('Average cluster size:               ', avg_size)\n",
    "    print('Average cluster size (excluding single-address clusters): ', avg_non_single_size)\n",
    "    \n",
    "    # Get cluster size counts in particular range\n",
    "    x, y = zip(*[(size, count) for size, count in cluster_sizes.items() if 100 > size > 1])\n",
    "\n",
    "    # Plot cluster sizes as a bar graph\n",
    "    plt.title(title)\n",
    "    plt.bar(x, y)\n",
    "    plt.ylabel('Number of Clusters')\n",
    "    plt.xlabel('Number of addresses in cluster')\n",
    "    plt.yscale('log')"
   ]
  },
  {
   "cell_type": "code",
   "execution_count": 4,
   "metadata": {
    "scrolled": true
   },
   "outputs": [
    {
     "name": "stdout",
     "output_type": "stream",
     "text": [
      "Percent Complete: 0                 Minutes Elapsed 0.0\n",
      "Percent Complete: 5                 Minutes Elapsed 0.019871159394582113\n",
      "Percent Complete: 10                 Minutes Elapsed 0.0585299293200175\n",
      "Percent Complete: 15                 Minutes Elapsed 0.15045073827107747\n",
      "Percent Complete: 20                 Minutes Elapsed 0.26105910539627075\n",
      "Percent Complete: 25                 Minutes Elapsed 0.4204951922098796\n",
      "Percent Complete: 30                 Minutes Elapsed 0.61038818359375\n",
      "Percent Complete: 35                 Minutes Elapsed 0.8524929960568746\n",
      "Percent Complete: 40                 Minutes Elapsed 1.1642302552858987\n",
      "Percent Complete: 45                 Minutes Elapsed 1.5084414879480998\n",
      "Percent Complete: 50                 Minutes Elapsed 1.884193221728007\n",
      "Percent Complete: 55                 Minutes Elapsed 2.296970001856486\n",
      "Percent Complete: 60                 Minutes Elapsed 2.789648203055064\n",
      "Percent Complete: 65                 Minutes Elapsed 3.5998483141263327\n",
      "Percent Complete: 70                 Minutes Elapsed 4.430636580785116\n",
      "Percent Complete: 75                 Minutes Elapsed 4.97679356733958\n",
      "Percent Complete: 80                 Minutes Elapsed 5.919823777675629\n",
      "Percent Complete: 85                 Minutes Elapsed 6.6599303205808\n",
      "Percent Complete: 90                 Minutes Elapsed 7.497403256098429\n",
      "Percent Complete: 95                 Minutes Elapsed 8.601536786556244\n",
      "Percent Complete: 100                 Minutes Elapsed 9.933137126763661\n"
     ]
    }
   ],
   "source": [
    "multi_input_clusters = cluster_and_pickle(heuristics.multi_input)"
   ]
  },
  {
   "cell_type": "code",
   "execution_count": 4,
   "metadata": {},
   "outputs": [
    {
     "name": "stdout",
     "output_type": "stream",
     "text": [
      "Percent Complete: 0                 Minutes Elapsed 0.0\n",
      "Percent Complete: 5                 Minutes Elapsed 0.012486167748769124\n",
      "Percent Complete: 10                 Minutes Elapsed 0.02828974723815918\n",
      "Percent Complete: 15                 Minutes Elapsed 0.08555270433425903\n",
      "Percent Complete: 20                 Minutes Elapsed 0.10715759595235189\n",
      "Percent Complete: 25                 Minutes Elapsed 0.13246346314748128\n",
      "Percent Complete: 30                 Minutes Elapsed 0.16310359239578248\n",
      "Percent Complete: 35                 Minutes Elapsed 0.24948980808258056\n",
      "Percent Complete: 40                 Minutes Elapsed 0.30230191151301067\n",
      "Percent Complete: 45                 Minutes Elapsed 0.36336559454600015\n",
      "Percent Complete: 50                 Minutes Elapsed 0.44096649885177613\n",
      "Percent Complete: 55                 Minutes Elapsed 0.5178672393163045\n",
      "Percent Complete: 60                 Minutes Elapsed 0.6214573661486308\n",
      "Percent Complete: 65                 Minutes Elapsed 0.8079662442207336\n",
      "Percent Complete: 70                 Minutes Elapsed 0.9539326270421346\n",
      "Percent Complete: 75                 Minutes Elapsed 1.2785061041514079\n",
      "Percent Complete: 80                 Minutes Elapsed 1.586525837580363\n",
      "Percent Complete: 85                 Minutes Elapsed 2.4160803039868672\n",
      "Percent Complete: 90                 Minutes Elapsed 3.3537441968917845\n",
      "Percent Complete: 95                 Minutes Elapsed 4.441842909653982\n",
      "Percent Complete: 100                 Minutes Elapsed 5.422514923413595\n"
     ]
    }
   ],
   "source": [
    "optimal_change_clusters = cluster_and_pickle(heuristics.optimal_change)"
   ]
  },
  {
   "cell_type": "code",
   "execution_count": 4,
   "metadata": {},
   "outputs": [
    {
     "name": "stdout",
     "output_type": "stream",
     "text": [
      "Percent Complete: 0                 Minutes Elapsed 0.0\n",
      "Percent Complete: 5                 Minutes Elapsed 0.026739386717478435\n",
      "Percent Complete: 10                 Minutes Elapsed 0.4372990846633911\n",
      "Percent Complete: 15                 Minutes Elapsed 3.3994531591733295\n",
      "Percent Complete: 20                 Minutes Elapsed 11.607161136468251\n",
      "Percent Complete: 25                 Minutes Elapsed 25.290275502204896\n",
      "Percent Complete: 30                 Minutes Elapsed 45.55417519013087\n",
      "Percent Complete: 35                 Minutes Elapsed 80.35993365844091\n",
      "Percent Complete: 40                 Minutes Elapsed 115.87575832207997\n",
      "Percent Complete: 45                 Minutes Elapsed 146.51456751823426\n",
      "Percent Complete: 50                 Minutes Elapsed 191.90222622156142\n",
      "Percent Complete: 55                 Minutes Elapsed 232.2477931777636\n",
      "Percent Complete: 60                 Minutes Elapsed 296.9123491247495\n",
      "Percent Complete: 65                 Minutes Elapsed 374.86166259050367\n",
      "Percent Complete: 70                 Minutes Elapsed 469.77293272415795\n",
      "Percent Complete: 75                 Minutes Elapsed 558.5196657180786\n",
      "Percent Complete: 80                 Minutes Elapsed 651.685440647602\n",
      "Percent Complete: 85                 Minutes Elapsed 778.4603076497714\n",
      "Percent Complete: 90                 Minutes Elapsed 894.5073293089866\n",
      "Percent Complete: 95                 Minutes Elapsed 1025.5837034424146\n",
      "Percent Complete: 100                 Minutes Elapsed 1162.990677424272\n"
     ]
    }
   ],
   "source": [
    "multi_input_opimal_change_clusters = cluster_and_pickle(heuristics.multi_input_optimal_change)"
   ]
  },
  {
   "cell_type": "code",
   "execution_count": 7,
   "metadata": {},
   "outputs": [
    {
     "name": "stdout",
     "output_type": "stream",
     "text": [
      "Percent Complete: 0 \t\tMinutes Elapsed: 0.0\n",
      "Percent Complete: 5 \t\tMinutes Elapsed: 1.2233937621116637\n",
      "Percent Complete: 10 \t\tMinutes Elapsed: 9.993245673179626\n",
      "Percent Complete: 15 \t\tMinutes Elapsed: 29.443925416469575\n",
      "Percent Complete: 20 \t\tMinutes Elapsed: 61.19755054314931\n",
      "Percent Complete: 25 \t\tMinutes Elapsed: 103.85583473841349\n",
      "Percent Complete: 30 \t\tMinutes Elapsed: 157.96338029305142\n",
      "Percent Complete: 35 \t\tMinutes Elapsed: 229.29513103961943\n",
      "Percent Complete: 40 \t\tMinutes Elapsed: 318.7076974034309\n",
      "Percent Complete: 45 \t\tMinutes Elapsed: 417.9994752327601\n",
      "Percent Complete: 50 \t\tMinutes Elapsed: 539.7690722107887\n",
      "Percent Complete: 55 \t\tMinutes Elapsed: 653.8277641057969\n",
      "Percent Complete: 60 \t\tMinutes Elapsed: 795.6694319009781\n",
      "Percent Complete: 65 \t\tMinutes Elapsed: 958.2277228514354\n",
      "Percent Complete: 70 \t\tMinutes Elapsed: 1305.4008401433628\n",
      "Percent Complete: 75 \t\tMinutes Elapsed: 1502.1993415157\n",
      "Percent Complete: 80 \t\tMinutes Elapsed: 1729.45293400685\n",
      "Percent Complete: 85 \t\tMinutes Elapsed: 1998.4305559913316\n",
      "Percent Complete: 90 \t\tMinutes Elapsed: 2242.766960279147\n",
      "Percent Complete: 95 \t\tMinutes Elapsed: 2504.1667591452597\n"
     ]
    }
   ],
   "source": [
    "shadow_clusters = cluster_and_pickle(heuristics.shadow)"
   ]
  },
  {
   "cell_type": "code",
   "execution_count": null,
   "metadata": {},
   "outputs": [],
   "source": []
  }
 ],
 "metadata": {
  "kernelspec": {
   "display_name": "Python 3",
   "language": "python",
   "name": "python3"
  },
  "language_info": {
   "codemirror_mode": {
    "name": "ipython",
    "version": 3
   },
   "file_extension": ".py",
   "mimetype": "text/x-python",
   "name": "python",
   "nbconvert_exporter": "python",
   "pygments_lexer": "ipython3",
   "version": "3.7.6"
  }
 },
 "nbformat": 4,
 "nbformat_minor": 2
}