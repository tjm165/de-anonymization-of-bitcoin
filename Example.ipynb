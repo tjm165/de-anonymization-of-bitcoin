{
 "cells": [
  {
   "cell_type": "markdown",
   "metadata": {},
   "source": [
    "## 1. Small Example"
   ]
  },
  {
   "cell_type": "code",
   "execution_count": 1,
   "metadata": {},
   "outputs": [],
   "source": [
    "import heuristics\n",
    "from data_util import *\n",
    "from cluster import *\n",
    "\n",
    "input1 = Input(\"address1\", 1)\n",
    "input2 = Input(\"address2\", 2)\n",
    "input3 = Input(\"address3\", 3)\n",
    "input4 = Input(\"address4\", 4)\n",
    "output1 = Output(\"address5\", 1)\n",
    "\n",
    "t1 = Transaction([input1, input2, input3, input4], [output1])\n",
    "\n",
    "\n",
    "input5 = Input(\"address6\", 1)\n",
    "input6 = Input(\"address7\", 2)\n",
    "output2 = Output(\"address6\", 8)\n",
    "t2 = Transaction([input5, input6], [output2])\n",
    "\n",
    "input7 = Input(\"address8\", 1)\n",
    "output3 = Output(\"address6\", 8)\n",
    "t3 = Transaction([input5, input7], [output3])\n",
    "\n",
    "# my_clusters = cluster([t1], heuristics.shadow, 1)\n",
    "my_clusters = cluster([t1, t2, t3], heuristics.multi_input)"
   ]
  },
  {
   "cell_type": "code",
   "execution_count": 2,
   "metadata": {},
   "outputs": [
    {
     "data": {
      "image/png": "[encoded data removed]",
      "text/plain": [
       "<Figure size 432x288 with 1 Axes>"
      ]
     },
     "metadata": {
      "needs_background": "light"
     },
     "output_type": "display_data"
    }
   ],
   "source": [
    "visualize_clusters(my_clusters)"
   ]
  },
  {
   "cell_type": "markdown",
   "metadata": {},
   "source": [
    "## 2. Format raw data\n",
    "Data is obtained from: https://www.kaggle.com/xblock/bitcoin-partial-transaction-dataset"
   ]
  },
  {
   "cell_type": "code",
   "execution_count": 1,
   "metadata": {},
   "outputs": [],
   "source": [
    "from data_util import parse_data"
   ]
  },
  {
   "cell_type": "code",
   "execution_count": 2,
   "metadata": {},
   "outputs": [],
   "source": [
    "parse_data('archive\\dataset3_2016_1_1500000')"
   ]
  },
  {
   "cell_type": "markdown",
   "metadata": {},
   "source": [
    "## 3. Run any clustering algorithm on the real data"
   ]
  },
  {
   "cell_type": "code",
   "execution_count": 37,
   "metadata": {},
   "outputs": [],
   "source": [
    "import cluster\n",
    "from data_util import load_data\n",
    "from heuristics import multi_input\n",
    "\n",
    "import pickle\n",
    "import matplotlib.pyplot as plt\n",
    "import numpy as np\n",
    "import time\n",
    "from collections import defaultdict"
   ]
  },
  {
   "cell_type": "code",
   "execution_count": 4,
   "metadata": {},
   "outputs": [],
   "source": [
    "# Load pickled data\n",
    "data = load_data('dataset3_2016_1_1500000.pkl')"
   ]
  },
  {
   "cell_type": "code",
   "execution_count": 13,
   "metadata": {},
   "outputs": [
    {
     "name": "stdout",
     "output_type": "stream",
     "text": [
      "Elapsed Time: 651.8322789669037\n"
     ]
    }
   ],
   "source": [
    "# Obtain list of clusters from data\n",
    "start_time = time.time()\n",
    "clusters = cluster.cluster(data, multi_input)\n",
    "print('Elapsed Time:', time.time() - start_time)"
   ]
  },
  {
   "cell_type": "code",
   "execution_count": 16,
   "metadata": {},
   "outputs": [],
   "source": [
    "# Save/Load cluster data for convenience\n",
    "file_name = 'dataset3_muti_input.pkl'\n",
    "\n",
    "if not clusters:\n",
    "    with open(file_name, 'rb') as f:\n",
    "        clusters = pickle.load(f)\n",
    "else:\n",
    "    with open(file_name, 'wb') as f:\n",
    "        pickle.dump(clusters, f)"
   ]
  },
  {
   "cell_type": "code",
   "execution_count": 30,
   "metadata": {},
   "outputs": [],
   "source": [
    "# Count the number of clusters at a given size\n",
    "cluster_sizes = defaultdict(int)\n",
    "total_addr = 0\n",
    "for cluster in clusters:\n",
    "    cluster_size = len(cluster)\n",
    "    total_addr += cluster_size\n",
    "    cluster_sizes[cluster_size] += 1"
   ]
  },
  {
   "cell_type": "code",
   "execution_count": 49,
   "metadata": {},
   "outputs": [
    {
     "name": "stdout",
     "output_type": "stream",
     "text": [
      "Total number of addresses:           2651582\n",
      "Total number of clusters:            1329209\n",
      "Number of single-address clusters:   963516\n",
      "Size of largest cluster:             119914\n",
      "Average cluster size:                1.9948570916988977\n",
      "Average cluster size (excluding single-address clusters):  4.616074138690103\n"
     ]
    }
   ],
   "source": [
    "sizes = list(cluster_sizes.keys())\n",
    "counts = list(cluster_sizes.values())\n",
    "avg_size = sum(size * count for size, count in zip(sizes, counts)) / sum(counts)\n",
    "avg_non_single_size = sum(size * count for size, count in zip(sizes, counts) if size > 1) / \\\n",
    "                      sum(count for size, count in zip(sizes, counts) if size > 1)\n",
    "print('Total number of addresses:          ', total_addr)\n",
    "print('Total number of clusters:           ', len(clusters))\n",
    "print('Number of single-address clusters:  ', cluster_sizes[1])\n",
    "print('Size of largest cluster:            ', max(sizes))\n",
    "print('Average cluster size:               ', avg_size)\n",
    "print('Average cluster size (excluding single-address clusters): ', avg_non_single_size)"
   ]
  },
  {
   "cell_type": "code",
   "execution_count": 53,
   "metadata": {},
   "outputs": [
    {
     "data": {
      "image/png": "[encoded data removed]",
      "text/plain": [
       "<Figure size 1440x720 with 1 Axes>"
      ]
     },
     "metadata": {
      "needs_background": "light"
     },
     "output_type": "display_data"
    }
   ],
   "source": [
    "# Get cluster size counts in particular range\n",
    "x, y = zip(*[(size, count) for size, count in cluster_sizes.items() if 100 > size > 1])\n",
    "\n",
    "# Plot\n",
    "plt.figure(figsize=(20,10))\n",
    "plt.bar(x, y)\n",
    "plt.ylabel('Number of Clusters')\n",
    "plt.xlabel('Number of addresses in cluster')\n",
    "plt.yscale('log')"
   ]
  },
  {
   "cell_type": "markdown",
   "metadata": {},
   "source": [
    "## 4. Make a histogram for shadow"
   ]
  },
  {
   "cell_type": "code",
   "execution_count": 4,
   "metadata": {},
   "outputs": [],
   "source": [
    "# this is ticket number 13 in github\n",
    "\n",
    "# run __get_shadow_data(transactions) on the real data\n",
    "# then make a histogram of the output\n",
    "\n",
    "# based on the histogram, do you think we have a clear distinction of who is a merchant? \n",
    "# Or will we need to make an assumption on our own?"
   ]
  },
  {
   "cell_type": "markdown",
   "metadata": {},
   "source": [
    "## Big one if you have time...\n",
    "\n",
    "Implement the cluster comparisons"
   ]
  },
  {
   "cell_type": "markdown",
   "metadata": {},
   "source": [
    "## If you have time to fix the visuals..\n",
    "The cluster.visualize_clusters  looks a bit clunky. I had trouble getting the ticks to count by 1 instead of .25\n",
    "Not a big deal for rn if you cant get it though"
   ]
  },
  {
   "cell_type": "code",
   "execution_count": null,
   "metadata": {},
   "outputs": [],
   "source": []
  }
 ],
 "metadata": {
  "kernelspec": {
   "display_name": "Python 3",
   "language": "python",
   "name": "python3"
  }
 },
 "nbformat": 4,
 "nbformat_minor": 2
}
