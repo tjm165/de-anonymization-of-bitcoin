{
 "cells": [
  {
   "cell_type": "markdown",
   "metadata": {},
   "source": [
    "## 1. Small Example"
   ]
  },
  {
   "cell_type": "code",
   "execution_count": 1,
   "metadata": {},
   "outputs": [],
   "source": [
    "import heuristics\n",
    "from data_util import *\n",
    "from cluster import *\n",
    "\n",
    "input1 = Input(\"address1\", 1)\n",
    "input2 = Input(\"address2\", 2)\n",
    "input3 = Input(\"address3\", 3)\n",
    "input4 = Input(\"address4\", 4)\n",
    "output1 = Output(\"address5\", 1)\n",
    "\n",
    "t1 = Transaction([input1, input2, input3, input4], [output1])\n",
    "\n",
    "\n",
    "input5 = Input(\"address6\", 1)\n",
    "input6 = Input(\"address7\", 2)\n",
    "output2 = Output(\"address6\", 8)\n",
    "t2 = Transaction([input5, input6], [output2])\n",
    "\n",
    "input7 = Input(\"address8\", 1)\n",
    "output3 = Output(\"address6\", 8)\n",
    "t3 = Transaction([input5, input7], [output3])\n",
    "\n",
    "# my_clusters = cluster([t1], heuristics.shadow, 1)\n",
    "my_clusters = cluster([t1, t2, t3], heuristics.multi_input)"
   ]
  },
  {
   "cell_type": "code",
   "execution_count": 2,
   "metadata": {},
   "outputs": [
    {
     "data": {
      "image/png": "[encoded data removed]",
      "text/plain": [
       "<Figure size 432x288 with 1 Axes>"
      ]
     },
     "metadata": {
      "needs_background": "light"
     },
     "output_type": "display_data"
    }
   ],
   "source": [
    "visualize_clusters(my_clusters)"
   ]
  },
  {
   "cell_type": "markdown",
   "metadata": {},
   "source": [
    "## 2. Run any clustering algorithm on the real data"
   ]
  },
  {
   "cell_type": "code",
   "execution_count": 3,
   "metadata": {},
   "outputs": [],
   "source": [
    "# just make sure that the clustering algorithms are working right on real data"
   ]
  },
  {
   "cell_type": "markdown",
   "metadata": {},
   "source": [
    "## 3. Make a histogram for shadow"
   ]
  },
  {
   "cell_type": "code",
   "execution_count": 4,
   "metadata": {},
   "outputs": [],
   "source": [
    "# this is ticket number 13 in github\n",
    "\n",
    "# run __get_shadow_data(transactions) on the real data\n",
    "# then make a histogram of the output\n",
    "\n",
    "# based on the histogram, do you think we have a clear distinction of who is a merchant? \n",
    "# Or will we need to make an assumption on our own?"
   ]
  },
  {
   "cell_type": "markdown",
   "metadata": {},
   "source": [
    "## If you have time to fix the visuals..\n",
    "The cluster.visualize_clusters  looks a bit clunky. I had trouble getting the ticks to count by 1 instead of .25\n",
    "Not a big deal for rn if you cant get it though"
   ]
  },
  {
   "cell_type": "code",
   "execution_count": null,
   "metadata": {},
   "outputs": [],
   "source": []
  }
 ],
 "metadata": {
  "kernelspec": {
   "display_name": "Python 3",
   "language": "python",
   "name": "python3"
  },
  "language_info": {
   "codemirror_mode": {
    "name": "ipython",
    "version": 3
   },
   "file_extension": ".py",
   "mimetype": "text/x-python",
   "name": "python",
   "nbconvert_exporter": "python",
   "pygments_lexer": "ipython3",
   "version": "3.7.4"
  }
 },
 "nbformat": 4,
 "nbformat_minor": 2
}
